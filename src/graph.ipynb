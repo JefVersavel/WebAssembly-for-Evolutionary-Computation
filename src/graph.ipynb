{
 "cells": [
  {
   "cell_type": "code",
   "execution_count": 1,
   "metadata": {},
   "outputs": [
    {
     "name": "stdout",
     "output_type": "stream",
     "text": [
      "../json/\"MVP_seed=10_depth=5_ratio=0.5_size=10_maxSize=10_mutationRatio=0.5_start=10.0\"\n",
      "../json/.DS_Store\n",
      "../json/\"MVP_seed=10_depth=5_ratio=0.5_size=10_maxSize=100_mutationRatio=0.5_start=10.0\"\n"
     ]
    }
   ],
   "source": [
    "import json\n",
    "import pathlib\n",
    "\n",
    "flist = []\n",
    "for p in pathlib.Path(\"../json/\").iterdir():\n",
    "    if p.is_file():\n",
    "        print(p)\n",
    "        flist.append(p)\n"
   ]
  },
  {
   "cell_type": "code",
   "execution_count": 3,
   "metadata": {},
   "outputs": [
    {
     "ename": "ModuleNotFoundError",
     "evalue": "No module named 'matplotlib'",
     "output_type": "error",
     "traceback": [
      "\u001b[0;31m---------------------------------------------------------------------------\u001b[0m",
      "\u001b[0;31mModuleNotFoundError\u001b[0m                       Traceback (most recent call last)",
      "\u001b[0;32m<ipython-input-3-d4421d7fec12>\u001b[0m in \u001b[0;36m<module>\u001b[0;34m\u001b[0m\n\u001b[0;32m----> 1\u001b[0;31m \u001b[0;32mimport\u001b[0m \u001b[0mmatplotlib\u001b[0m\u001b[0;34m.\u001b[0m\u001b[0mpyplot\u001b[0m \u001b[0;32mas\u001b[0m \u001b[0mplt\u001b[0m\u001b[0;34m\u001b[0m\u001b[0;34m\u001b[0m\u001b[0m\n\u001b[0m\u001b[1;32m      2\u001b[0m \u001b[0;32mimport\u001b[0m \u001b[0mos\u001b[0m\u001b[0;34m\u001b[0m\u001b[0;34m\u001b[0m\u001b[0m\n\u001b[1;32m      3\u001b[0m \u001b[0;34m\u001b[0m\u001b[0m\n\u001b[1;32m      4\u001b[0m \u001b[0;32mdef\u001b[0m \u001b[0mdraw\u001b[0m\u001b[0;34m(\u001b[0m\u001b[0mi\u001b[0m\u001b[0;34m,\u001b[0m\u001b[0mobj\u001b[0m\u001b[0;34m,\u001b[0m\u001b[0mdirname\u001b[0m\u001b[0;34m)\u001b[0m\u001b[0;34m:\u001b[0m\u001b[0;34m\u001b[0m\u001b[0;34m\u001b[0m\u001b[0m\n\u001b[1;32m      5\u001b[0m     \u001b[0mcurrent\u001b[0m \u001b[0;34m=\u001b[0m \u001b[0mobj\u001b[0m\u001b[0;34m[\u001b[0m\u001b[0mi\u001b[0m\u001b[0;34m]\u001b[0m\u001b[0;34m\u001b[0m\u001b[0;34m\u001b[0m\u001b[0m\n",
      "\u001b[0;31mModuleNotFoundError\u001b[0m: No module named 'matplotlib'"
     ]
    }
   ],
   "source": [
    "import matplotlib.pyplot as plt\n",
    "import os\n",
    "\n",
    "def draw(i,obj,dirname):\n",
    "    current = obj[i]\n",
    "    labels = []\n",
    "    data = []\n",
    "    for item in current:\n",
    "        labels.append(item[0])\n",
    "        data.append(item[1])\n",
    "    plt.pie(data, labels=labels, autopct='%1.1f%%')\n",
    "    plt.axis('equal')\n",
    "    plt.savefig(dirname + \"/\" + str(i))\n",
    "\n",
    "for fName in flist:\n",
    "    f = open(fName)  \n",
    "    file = f.read()\n",
    "    obj = json.loads(file)\n",
    "    name = str(fName).split('/')[-1]\n",
    "    print(name)\n",
    "    dirname = \"../figs/\" + name\n",
    "    os.mkdir(dirname)\n",
    "\n",
    "    for i in range(len(obj)):\n",
    "        draw(i, obj, dirname)"
   ]
  },
  {
   "cell_type": "code",
   "execution_count": 61,
   "metadata": {},
   "outputs": [
    {
     "data": {
      "image/png": "[encoded data removed]",
      "text/plain": [
       "<Figure size 432x288 with 1 Axes>"
      ]
     },
     "metadata": {},
     "output_type": "display_data"
    }
   ],
   "source": [
    "import numpy as np\n",
    "import matplotlib.animation as animation\n",
    "from matplotlib import pyplot as plt \n",
    "\n",
    "numbers = [[6.166, 5.976, 3.504, 7.104, 5.14],\n",
    " [7.472, 5.888, 3.264, 6.4825, 7.168],\n",
    " [7.5716, 9.936, 3.6, 8.536, 2.808],\n",
    " [2.604, 2.296, 0.0, 6.144, 4.836],\n",
    " [7.192, 4.932, 0.0, 6.016, 8.808],\n",
    " [7.192, 5.5755, 3.694, 9.376, 9.108],\n",
    " [7.63616, 5.912, 3.968, 6.672, 3.192],\n",
    " [3.41049, 5.44, 4.004, 7.212, 3.6954],\n",
    " [4.3143, 6.364, 3.584, 7.44, 5.78],\n",
    " [4.992, 3.9692, 4.272, 0.0, 2.528]]\n",
    "numbers = np.array(numbers)\n",
    "\n",
    "colors = [\"yellow\", \"red\", \"purple\", \"blue\", \"green\"]\n",
    "explode = [0.01, 0.01, 0.01, 0.01, 0.01]\n",
    "labels = [\"DM\", \"Bard\", \"Warlock\", \"Paladin\", \"Ranger\"]\n",
    "z = np.array([0,0,0,0,0]).astype(np.float)\n",
    "\n",
    "fig,ax = plt.subplots()\n",
    "\n",
    "def update(num):\n",
    "    \n",
    "    global z\n",
    "    \n",
    "    ax.clear()\n",
    "    ax.axis('equal')     \n",
    "    z += numbers[num]  \n",
    "    pie = ax.pie(z, explode=explode, labels=labels, colors=colors, \n",
    "                 autopct='%1.1f%%', shadow=True, startangle=140)\n",
    "    ax.set_title(sum(z))    \n",
    "    \n",
    "ani = animation.FuncAnimation(fig, update, frames=range(10), repeat=False)\n",
    "ani.save('test.gif', writer='pillow', fps=1)"
   ]
  },
  {
   "cell_type": "code",
   "execution_count": null,
   "metadata": {},
   "outputs": [],
   "source": []
  }
 ],
 "metadata": {
  "kernelspec": {
   "display_name": "Python 3",
   "language": "python",
   "name": "python3"
  },
  "language_info": {
   "codemirror_mode": {
    "name": "ipython",
    "version": 3
   },
   "file_extension": ".py",
   "mimetype": "text/x-python",
   "name": "python",
   "nbconvert_exporter": "python",
   "pygments_lexer": "ipython3",
   "version": "3.9.0"
  }
 },
 "nbformat": 4,
 "nbformat_minor": 4
}
